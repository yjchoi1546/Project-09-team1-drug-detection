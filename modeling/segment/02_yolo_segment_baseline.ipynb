{
 "cells": [
  {
   "cell_type": "markdown",
   "id": "fadc54a2",
   "metadata": {},
   "source": [
    "# 모델 불러오기"
   ]
  },
  {
   "cell_type": "code",
   "execution_count": null,
   "id": "2d750b2f",
   "metadata": {},
   "outputs": [],
   "source": [
    "from ultralytics import YOLO\n",
    "\n",
    "model = YOLO(\"./models/yolo11n-seg.pt\")"
   ]
  },
  {
   "cell_type": "markdown",
   "id": "5704a8ef",
   "metadata": {},
   "source": [
    "## 테스트"
   ]
  },
  {
   "cell_type": "code",
   "execution_count": null,
   "id": "6a1130b6",
   "metadata": {},
   "outputs": [
    {
     "name": "stdout",
     "output_type": "stream",
     "text": [
      "1\n"
     ]
    }
   ],
   "source": [
    "results = model(\"./test.jpg\", save=True)\n",
    "result = results[0]\n",
    "masks = result.masks.cpu()\n",
    "print(len(masks))"
   ]
  },
  {
   "cell_type": "code",
   "execution_count": 10,
   "id": "e8310393",
   "metadata": {},
   "outputs": [
    {
     "data": {
      "image/png": "[encoded data removed]",
      "text/plain": [
       "<Figure size 640x480 with 1 Axes>"
      ]
     },
     "metadata": {},
     "output_type": "display_data"
    }
   ],
   "source": [
    "import matplotlib.pyplot as plt\n",
    "\n",
    "for mask in masks.data:\n",
    "    plt.imshow(mask)\n",
    "    plt.axis(\"off\")\n",
    "    plt.show()"
   ]
  },
  {
   "cell_type": "code",
   "execution_count": 15,
   "id": "d926d7b3",
   "metadata": {},
   "outputs": [
    {
     "name": "stdout",
     "output_type": "stream",
     "text": [
      "tensor([9.])\n",
      "tensor([0.2972])\n",
      "tensor([[9.0249e+02, 1.0519e+03, 1.0610e+03, 1.2032e+03, 2.9718e-01, 9.0000e+00]])\n",
      "traffic light\n"
     ]
    }
   ],
   "source": [
    "print(result.boxes.cls)\n",
    "print(result.boxes.conf)\n",
    "print(result.boxes.data)\n",
    "print(result.names[result.boxes.cls.item()])"
   ]
  },
  {
   "cell_type": "markdown",
   "id": "419381ec",
   "metadata": {},
   "source": [
    "# 모델 학습하기"
   ]
  },
  {
   "cell_type": "code",
   "execution_count": null,
   "id": "5bdf8827",
   "metadata": {},
   "outputs": [],
   "source": [
    "# model = YOLO(data_path) # 새로운 데이터로 완전히 다시 학습"
   ]
  },
  {
   "cell_type": "code",
   "execution_count": null,
   "id": "5024ab14",
   "metadata": {},
   "outputs": [],
   "source": [
    "results = model.train(data=\"path/to/your_dataset.yaml\", epochs=100, imgsz=640)"
   ]
  }
 ],
 "metadata": {
  "kernelspec": {
   "display_name": "Drug-Detection-Chatbot (3.10.18)",
   "language": "python",
   "name": "python3"
  },
  "language_info": {
   "codemirror_mode": {
    "name": "ipython",
    "version": 3
   },
   "file_extension": ".py",
   "mimetype": "text/x-python",
   "name": "python",
   "nbconvert_exporter": "python",
   "pygments_lexer": "ipython3",
   "version": "3.10.18"
  }
 },
 "nbformat": 4,
 "nbformat_minor": 5
}
